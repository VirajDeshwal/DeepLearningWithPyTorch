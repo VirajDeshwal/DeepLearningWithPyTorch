{
 "cells": [
  {
   "cell_type": "code",
   "execution_count": 22,
   "metadata": {},
   "outputs": [],
   "source": [
    "%matplotlib inline\n",
    "import matplotlib.pyplot as plt\n",
    "from torch import nn"
   ]
  },
  {
   "cell_type": "code",
   "execution_count": 7,
   "metadata": {},
   "outputs": [],
   "source": [
    "'''torch vision is a seperate lib to import datasets'''\n",
    "import torch\n",
    "from torchvision import datasets, transforms\n",
    "\n",
    "# Define the transform to normalize the data\n",
    "\n",
    "transform = transforms.Compose([transforms.ToTensor(),\n",
    "                               transforms.Normalize((0.5,), (0.5,)),])\n",
    "\n",
    "# Defining the training set\n",
    "training_set = datasets.MNIST('MNIST_data/', download=True, train=True, transform=transform)\n",
    "\n",
    "# Loading the training dataset\n",
    "trainloader = torch.utils.data.DataLoader(dataset=training_set, batch_size=128, shuffle=True)\n"
   ]
  },
  {
   "cell_type": "code",
   "execution_count": 8,
   "metadata": {},
   "outputs": [
    {
     "name": "stdout",
     "output_type": "stream",
     "text": [
      "<class 'torch.Tensor'>\n",
      "torch.Size([128, 1, 28, 28])\n",
      "torch.Size([128])\n"
     ]
    }
   ],
   "source": [
    "#iterating through the data\n",
    "dataiter = iter(trainloader)\n",
    "images, labels = dataiter.next()\n",
    "print(type(images))\n",
    "print(images.shape)\n",
    "print(labels.shape)"
   ]
  },
  {
   "cell_type": "code",
   "execution_count": 10,
   "metadata": {},
   "outputs": [
    {
     "data": {
      "text/plain": [
       "<matplotlib.image.AxesImage at 0x1260fd828>"
      ]
     },
     "execution_count": 10,
     "metadata": {},
     "output_type": "execute_result"
    },
    {
     "data": {
      "image/png": "[encoded data removed]",
      "text/plain": [
       "<Figure size 432x288 with 1 Axes>"
      ]
     },
     "metadata": {
      "needs_background": "light"
     },
     "output_type": "display_data"
    }
   ],
   "source": [
    "plt.imshow(images[1].numpy().squeeze(), cmap='Greys_r')"
   ]
  },
  {
   "cell_type": "code",
   "execution_count": 14,
   "metadata": {},
   "outputs": [],
   "source": [
    "def actiavtion(x):\n",
    "    return 1/(1+torch.exp(-x))\n",
    "\n",
    "#Flatten the 28*28 vector into an array\n",
    "inputs = images.view(images.shape[0], -1) #image.shape[0] -> grabbing the batch size\n",
    "\n",
    "# -1 is the shortcut to return a propriate shape (784)\n",
    "\n",
    "#creating the first layer \n",
    "w1 = torch.randn((28*28), 256) #taking an input vector of 784 and giving out 256 as output\n",
    "b1  = torch.randn(256) # Bias = Weights.\n",
    "\n",
    "#Hidden Layer\n",
    "w2 = torch.randn(256, 10) #input = 256 output = 10\n",
    "b2 = torch.randn(10)\n",
    "\n",
    "hidden = actiavtion(torch.mm(inputs, w1) + b1)\n",
    "out = torch.mm(hidden, w2) + b2\n"
   ]
  },
  {
   "cell_type": "code",
   "execution_count": 18,
   "metadata": {},
   "outputs": [
    {
     "name": "stdout",
     "output_type": "stream",
     "text": [
      "The batch size is 128 \n",
      "The output classes are 10.\n"
     ]
    }
   ],
   "source": [
    "print ('The batch size is {} \\nThe output classes are {}.'.format(out.shape[0], out.shape[1]))"
   ]
  },
  {
   "cell_type": "code",
   "execution_count": 19,
   "metadata": {},
   "outputs": [
    {
     "name": "stdout",
     "output_type": "stream",
     "text": [
      "tensor([[ -3.7033,  -7.1423,   1.1361,  ..., -12.5997,  23.6793,  18.2029],\n",
      "        [ -7.5332,  -4.0216,   8.6732,  ...,  -7.8377,  19.5081,  18.6722],\n",
      "        [-10.6751, -16.1437,   6.8596,  ...,  -3.6522,  24.5867,  14.9924],\n",
      "        ...,\n",
      "        [-11.2019,  -5.9565,  -1.6531,  ..., -15.2115,  19.4655,  10.4977],\n",
      "        [  0.1072, -10.8206,  -0.9306,  ..., -21.7228,  20.7826,  29.0985],\n",
      "        [  0.6833,  -7.9291,   0.4142,  ..., -12.9205,  28.0373,  15.2794]])\n"
     ]
    }
   ],
   "source": [
    "print(out)"
   ]
  },
  {
   "cell_type": "code",
   "execution_count": null,
   "metadata": {},
   "outputs": [],
   "source": [
    "#Defining a Neural Network to apply a Sigmoid function to get the probability\n",
    "class Network(nn.Module):\n",
    "    def __init__(self):\n",
    "        super().__init__()\n",
    "        \n",
    "        #Input\n",
    "        self.hidden = nn.Linear(786, 256)\n",
    "        \n",
    "        #output\n",
    "        self.output = nn.Linear(256, 10)\n",
    "        \n",
    "        #Sigmoid\n",
    "        self.sigmoid = nn.Sigmoid()\n",
    "        self.softmax = nn.Softmax(din = 1)\n",
    "        \n",
    "    def forward(self, x):\n",
    "        x = self.hidden(x)\n",
    "        x = self.sigmoid(x)\n",
    "        x = self.output(x)\n",
    "        x = self.softmax(x)\n",
    "        \n",
    "        return x"
   ]
  },
  {
   "cell_type": "code",
   "execution_count": null,
   "metadata": {},
   "outputs": [],
   "source": []
  }
 ],
 "metadata": {
  "kernelspec": {
   "display_name": "Python 3",
   "language": "python",
   "name": "python3"
  },
  "language_info": {
   "codemirror_mode": {
    "name": "ipython",
    "version": 3
   },
   "file_extension": ".py",
   "mimetype": "text/x-python",
   "name": "python",
   "nbconvert_exporter": "python",
   "pygments_lexer": "ipython3",
   "version": "3.7.1"
  }
 },
 "nbformat": 4,
 "nbformat_minor": 2
}

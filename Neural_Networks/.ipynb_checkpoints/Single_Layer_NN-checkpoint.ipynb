{
 "cells": [
  {
   "cell_type": "code",
   "execution_count": 26,
   "metadata": {},
   "outputs": [],
   "source": [
    "## importing PyTorch\n",
    "import torch\n",
    "import numpy as np"
   ]
  },
  {
   "cell_type": "code",
   "execution_count": 3,
   "metadata": {},
   "outputs": [],
   "source": [
    "def activation(x):\n",
    "    '''sigmoid function for the non-linearity'''\n",
    "    return 1/(1+torch.exp(-x))\n",
    "    "
   ]
  },
  {
   "cell_type": "code",
   "execution_count": 5,
   "metadata": {},
   "outputs": [
    {
     "name": "stdout",
     "output_type": "stream",
     "text": [
      "tensor([[-0.2332,  0.0062, -0.0606,  0.3211,  1.3888]])\n"
     ]
    }
   ],
   "source": [
    "###Generating some random data\n",
    "\n",
    "#Features are 5 random normal variables\n",
    "features = torch.randn((1,5))\n",
    "print(features)"
   ]
  },
  {
   "cell_type": "code",
   "execution_count": 6,
   "metadata": {},
   "outputs": [
    {
     "name": "stdout",
     "output_type": "stream",
     "text": [
      "tensor([[-0.6610,  3.3900, -0.0118, -0.8554,  0.3747]])\n"
     ]
    }
   ],
   "source": [
    "#True weights using random normal variables again\n",
    "weights = torch.randn_like(features)\n",
    "print(weights)"
   ]
  },
  {
   "cell_type": "code",
   "execution_count": 7,
   "metadata": {},
   "outputs": [
    {
     "name": "stdout",
     "output_type": "stream",
     "text": [
      "tensor([[0.3681]])\n"
     ]
    }
   ],
   "source": [
    "bias = torch.randn((1,1))\n",
    "print(bias)"
   ]
  },
  {
   "cell_type": "code",
   "execution_count": 14,
   "metadata": {},
   "outputs": [
    {
     "name": "stdout",
     "output_type": "stream",
     "text": [
      "tensor([[0.6878]])\n"
     ]
    }
   ],
   "source": [
    "prediction = activation(torch.sum(features*weights) + bias)\n",
    "print(prediction)"
   ]
  },
  {
   "cell_type": "code",
   "execution_count": 21,
   "metadata": {},
   "outputs": [
    {
     "name": "stdout",
     "output_type": "stream",
     "text": [
      "tensor([[0.6878]])\n"
     ]
    }
   ],
   "source": [
    "#instead of torch.sum we will use torch.mm or torch.matmul for the matrix multiplication\n",
    "'''.view() function return a new tensor of the same shape as weights.'''\n",
    "y = activation(torch.mm(features, weights.view(5,1)) + bias)\n",
    "print(y)"
   ]
  },
  {
   "cell_type": "markdown",
   "metadata": {},
   "source": [
    "### With 2 Hidden units"
   ]
  },
  {
   "cell_type": "code",
   "execution_count": 23,
   "metadata": {},
   "outputs": [],
   "source": [
    "features = torch.randn((1,3))\n",
    "\n",
    "# size of each layer\n",
    "n_input = features.shape[1]\n",
    "n_hidden = 2\n",
    "n_output =1\n",
    "\n",
    "#weights for inputs to hidden layer\n",
    "W1 = torch.randn(n_input, n_hidden)\n",
    "\n",
    "#weights for hidden to output layer\n",
    "W2 = torch.randn(n_hidden, n_output)\n",
    "\n",
    "#Bias for hidden and output layer\n",
    "B1 = torch.randn((1, n_hidden))\n",
    "B2 = torch.randn((1, n_output))"
   ]
  },
  {
   "cell_type": "code",
   "execution_count": 24,
   "metadata": {},
   "outputs": [
    {
     "name": "stdout",
     "output_type": "stream",
     "text": [
      "tensor([[0.5053]])\n"
     ]
    }
   ],
   "source": [
    "hidden =activation(torch.mm(features, W1) + B1)\n",
    "output = activation(torch.mm(hidden, W2) + B2)\n",
    "print(output)"
   ]
  },
  {
   "cell_type": "markdown",
   "metadata": {},
   "source": [
    "#### Numpy to tensor\n"
   ]
  },
  {
   "cell_type": "code",
   "execution_count": 30,
   "metadata": {},
   "outputs": [
    {
     "data": {
      "text/plain": [
       "array([[0.11074686, 0.82595443, 0.30843358, 0.61101312, 0.08450412],\n",
       "       [0.536176  , 0.80972811, 0.11065147, 0.29292281, 0.59788705],\n",
       "       [0.39518499, 0.9177533 , 0.72819223, 0.44732319, 0.3431731 ]])"
      ]
     },
     "execution_count": 30,
     "metadata": {},
     "output_type": "execute_result"
    }
   ],
   "source": [
    "data = np.random.rand(3,5)\n",
    "data"
   ]
  },
  {
   "cell_type": "code",
   "execution_count": 32,
   "metadata": {},
   "outputs": [
    {
     "data": {
      "text/plain": [
       "tensor([[0.1107, 0.8260, 0.3084, 0.6110, 0.0845],\n",
       "        [0.5362, 0.8097, 0.1107, 0.2929, 0.5979],\n",
       "        [0.3952, 0.9178, 0.7282, 0.4473, 0.3432]], dtype=torch.float64)"
      ]
     },
     "execution_count": 32,
     "metadata": {},
     "output_type": "execute_result"
    }
   ],
   "source": [
    "tensor = torch.from_numpy(data)\n",
    "tensor"
   ]
  },
  {
   "cell_type": "code",
   "execution_count": 34,
   "metadata": {},
   "outputs": [
    {
     "data": {
      "text/plain": [
       "array([[0.11074686, 0.82595443, 0.30843358, 0.61101312, 0.08450412],\n",
       "       [0.536176  , 0.80972811, 0.11065147, 0.29292281, 0.59788705],\n",
       "       [0.39518499, 0.9177533 , 0.72819223, 0.44732319, 0.3431731 ]])"
      ]
     },
     "execution_count": 34,
     "metadata": {},
     "output_type": "execute_result"
    }
   ],
   "source": [
    "data = tensor.numpy()\n",
    "data"
   ]
  },
  {
   "cell_type": "code",
   "execution_count": 36,
   "metadata": {},
   "outputs": [
    {
     "data": {
      "text/plain": [
       "tensor([[0.2215, 1.6519, 0.6169, 1.2220, 0.1690],\n",
       "        [1.0724, 1.6195, 0.2213, 0.5858, 1.1958],\n",
       "        [0.7904, 1.8355, 1.4564, 0.8946, 0.6863]], dtype=torch.float64)"
      ]
     },
     "execution_count": 36,
     "metadata": {},
     "output_type": "execute_result"
    }
   ],
   "source": [
    "## Multiply a tensor by certain number\n",
    "\n",
    "tensor.mul_(2)"
   ]
  },
  {
   "cell_type": "code",
   "execution_count": 37,
   "metadata": {},
   "outputs": [
    {
     "data": {
      "text/plain": [
       "array([[0.22149372, 1.65190885, 0.61686715, 1.22202625, 0.16900824],\n",
       "       [1.072352  , 1.61945622, 0.22130294, 0.58584562, 1.19577409],\n",
       "       [0.79036998, 1.83550659, 1.45638446, 0.89464639, 0.6863462 ]])"
      ]
     },
     "execution_count": 37,
     "metadata": {},
     "output_type": "execute_result"
    }
   ],
   "source": [
    "data"
   ]
  },
  {
   "cell_type": "code",
   "execution_count": 38,
   "metadata": {},
   "outputs": [
    {
     "data": {
      "text/plain": [
       "'Tensor and numpy array is sharing a common memory\\n    The value of data is changed along with the tensor values.'"
      ]
     },
     "execution_count": 38,
     "metadata": {},
     "output_type": "execute_result"
    }
   ],
   "source": [
    "'''Tensor and numpy array is sharing a common memory\n",
    "    The value of data is changed along with the tensor values.'''"
   ]
  },
  {
   "cell_type": "code",
   "execution_count": null,
   "metadata": {},
   "outputs": [],
   "source": []
  }
 ],
 "metadata": {
  "kernelspec": {
   "display_name": "Python 3",
   "language": "python",
   "name": "python3"
  },
  "language_info": {
   "codemirror_mode": {
    "name": "ipython",
    "version": 3
   },
   "file_extension": ".py",
   "mimetype": "text/x-python",
   "name": "python",
   "nbconvert_exporter": "python",
   "pygments_lexer": "ipython3",
   "version": "3.7.1"
  }
 },
 "nbformat": 4,
 "nbformat_minor": 2
}

{
 "cells": [
  {
   "cell_type": "code",
   "execution_count": 1,
   "metadata": {},
   "outputs": [],
   "source": [
    "import torch"
   ]
  },
  {
   "cell_type": "code",
   "execution_count": 2,
   "metadata": {},
   "outputs": [],
   "source": [
    "def activation(x):\n",
    "    return 1/(1+torch.exp(-x))"
   ]
  },
  {
   "cell_type": "code",
   "execution_count": 17,
   "metadata": {},
   "outputs": [
    {
     "name": "stdout",
     "output_type": "stream",
     "text": [
      "Shape of Features: torch.Size([1, 5])\n",
      "Shape of Weights: torch.Size([1, 5])\n"
     ]
    }
   ],
   "source": [
    "### Random data\n",
    "torch.manual_seed(100)\n",
    "\n",
    "### Features 5 random normal variables\n",
    "features = torch.randn((1,5))\n",
    "print(\"Shape of Features:\", features.shape)\n",
    "'''Always check the shape of the tensor before multiplying them to \n",
    "avoid Matmul conflicts'''\n",
    "#weights\n",
    "weights = torch.randn_like(features)\n",
    "print(\"Shape of Weights:\", weights.shape)\n",
    "#Bias\n",
    "bias = torch.randn((1,1))"
   ]
  },
  {
   "cell_type": "code",
   "execution_count": 23,
   "metadata": {},
   "outputs": [
    {
     "data": {
      "text/plain": [
       "tensor([[0.3608]])"
      ]
     },
     "execution_count": 23,
     "metadata": {},
     "output_type": "execute_result"
    }
   ],
   "source": [
    "'''\n",
    "We are using torch.view in order to reshape[row, col] without altering the values\n",
    "\n",
    "now we are multiplying features[1,5] * weights[5,1]\n",
    "'''\n",
    "\n",
    "y = activation(torch.mm(features, weights.view(5,1))+bias)\n",
    "y\n"
   ]
  },
  {
   "cell_type": "code",
   "execution_count": 24,
   "metadata": {},
   "outputs": [],
   "source": [
    "'''Now as an input we will use a matrix'''\n",
    "features = torch.randn((1,3))\n",
    "\n",
    "### Architecure\n",
    "n_input = features.shape[1] #input units should be equal to the shape of in features. So, 3 inputs.\n",
    "n_hidden = 2\n",
    "n_output = 1\n",
    "\n",
    "# weights\n",
    "W1 = torch.randn(n_input, n_hidden) # [3,2]\n",
    "W2 = torch.randn(n_hidden, n_output) # [2, 1]\n",
    "\n",
    "#Bias \n",
    "B1 = torch.randn((1, n_hidden)) # [1, 2]\n",
    "B2 = torch.randn((1, n_output)) # [1,1]"
   ]
  },
  {
   "cell_type": "code",
   "execution_count": 26,
   "metadata": {},
   "outputs": [
    {
     "name": "stdout",
     "output_type": "stream",
     "text": [
      "W1:  tensor([[ 0.6587, -0.2586],\n",
      "        [-0.2510,  0.4770],\n",
      "        [-0.5883, -0.6131]])\n",
      "W2:  tensor([[0.4322],\n",
      "        [0.4612]])\n",
      "B1:  tensor([[-0.9014, -0.2675]])\n",
      "B2:  tensor([[0.0756]])\n"
     ]
    }
   ],
   "source": [
    "print(\"W1: \", W1)\n",
    "print(\"W2: \", W2)\n",
    "print(\"B1: \",B1)\n",
    "print(\"B2: \",B2)"
   ]
  },
  {
   "cell_type": "code",
   "execution_count": 29,
   "metadata": {},
   "outputs": [
    {
     "name": "stdout",
     "output_type": "stream",
     "text": [
      "tensor([[0.6736]])\n"
     ]
    }
   ],
   "source": [
    "### Using the chain rule for the feed-forward network\n",
    "layer1 =  activation(torch.mm(features, W1.view(3,2) + B1))\n",
    "output = activation(torch.mm(layer1, W2) + B2)\n",
    "print(output)"
   ]
  },
  {
   "cell_type": "markdown",
   "metadata": {},
   "source": [
    "### Numpy to Torch and Back"
   ]
  },
  {
   "cell_type": "code",
   "execution_count": 30,
   "metadata": {},
   "outputs": [
    {
     "data": {
      "text/plain": [
       "array([[0.3463192 , 0.12217736, 0.29132179],\n",
       "       [0.74171655, 0.95249641, 0.83609537],\n",
       "       [0.74220031, 0.52802189, 0.70820781],\n",
       "       [0.4877793 , 0.98947788, 0.17865372]])"
      ]
     },
     "execution_count": 30,
     "metadata": {},
     "output_type": "execute_result"
    }
   ],
   "source": [
    "import numpy as np\n",
    "a = np.random.rand(4,3)\n",
    "a"
   ]
  },
  {
   "cell_type": "code",
   "execution_count": 31,
   "metadata": {},
   "outputs": [
    {
     "data": {
      "text/plain": [
       "tensor([[0.3463, 0.1222, 0.2913],\n",
       "        [0.7417, 0.9525, 0.8361],\n",
       "        [0.7422, 0.5280, 0.7082],\n",
       "        [0.4878, 0.9895, 0.1787]], dtype=torch.float64)"
      ]
     },
     "execution_count": 31,
     "metadata": {},
     "output_type": "execute_result"
    }
   ],
   "source": [
    "b = torch.from_numpy(a)\n",
    "b"
   ]
  },
  {
   "cell_type": "code",
   "execution_count": 32,
   "metadata": {},
   "outputs": [
    {
     "data": {
      "text/plain": [
       "array([[0.3463192 , 0.12217736, 0.29132179],\n",
       "       [0.74171655, 0.95249641, 0.83609537],\n",
       "       [0.74220031, 0.52802189, 0.70820781],\n",
       "       [0.4877793 , 0.98947788, 0.17865372]])"
      ]
     },
     "execution_count": 32,
     "metadata": {},
     "output_type": "execute_result"
    }
   ],
   "source": [
    "b.numpy()"
   ]
  },
  {
   "cell_type": "code",
   "execution_count": null,
   "metadata": {},
   "outputs": [],
   "source": []
  }
 ],
 "metadata": {
  "kernelspec": {
   "display_name": "Python 3",
   "language": "python",
   "name": "python3"
  },
  "language_info": {
   "codemirror_mode": {
    "name": "ipython",
    "version": 3
   },
   "file_extension": ".py",
   "mimetype": "text/x-python",
   "name": "python",
   "nbconvert_exporter": "python",
   "pygments_lexer": "ipython3",
   "version": "3.7.3"
  }
 },
 "nbformat": 4,
 "nbformat_minor": 2
}
